{
 "cells": [
  {
   "cell_type": "code",
   "execution_count": 1,
   "metadata": {},
   "outputs": [],
   "source": [
    "import pandas as pd"
   ]
  },
  {
   "cell_type": "markdown",
   "metadata": {},
   "source": [
    "## Ausreisser in Zeitreihen\n",
    "### Aufgabe 1\n",
    "In der heutigen Vorlesung haben wir uns mit dem Thema Ausreisser in Zeitreihen beschäftigt. Lade das Datenset data_preoprocessing.csv aus dem Ordner für den heutigen Tag und visualisieren es. Suche nach Ausreissern und verwende dabei dir bekannte Methoden. (Beispielsweise: Z-Score od. Perzentile)\n",
    "\n",
    "**Wichtig**: Vertraue der Ausreisserbehandlung nicht blind. Übrpüfe vorgeschlagenen Ausreisser händisch und entscheide, ob es sich beim Datenpunkt tatsächlich um einen Ausreisser handelt. "
   ]
  },
  {
   "cell_type": "code",
   "execution_count": 2,
   "metadata": {},
   "outputs": [],
   "source": [
    "df = pd.read_csv(\"../data/tsa02/data_preprocessing.csv\")\n",
    "# Your code here"
   ]
  },
  {
   "cell_type": "markdown",
   "metadata": {},
   "source": [
    "### Aufgabe 1.1\n",
    "Entferne die Ausreisser und ersetze sie durch NaN-Werte"
   ]
  },
  {
   "cell_type": "code",
   "execution_count": null,
   "metadata": {},
   "outputs": [],
   "source": [
    "# Your Code here"
   ]
  },
  {
   "cell_type": "markdown",
   "metadata": {},
   "source": [
    "## Fehlende Werte in der Zeitreihenanalyse\n",
    "\n",
    "Wie wir bereits kennen gelernt haben, ist es nicht unüblich das Datenpunkte in einem Zeitreihendatenset fehlen. Die Ursachen können vielfältig sein:\n",
    "- Werte könnten durch Stromausfall nicht aufgezeichnet worden sein\n",
    "- Ein Produkt in einem Supermarkt war nicht mehr vorrätig und konnte nicht verkauft werden\n",
    "- Der Laden hatte geschlossen (wegen Streik)\n",
    "- Der Laden hatte geschlossen (aufgrund von Feiertagen)\n",
    "\n",
    "\n",
    "Möglichkeiten mittels pandas:\n",
    "- dropna()\n",
    "- fillna(0)\n",
    "- Imputation mittels mean() fillna(MEAN)\n",
    "- ffill() Forward Fill\n",
    "- bfill()"
   ]
  },
  {
   "cell_type": "markdown",
   "metadata": {},
   "source": [
    "### Aufgabe 2\n",
    "\n",
    "Identifiziere die fehlenden Daten und ersetze die fehlenden Werte mittels der oben gelisteten Pandas Funktionen. \n",
    "\n",
    "Erstelle einen Plot für jede Imputationsmethode. Welche eignet sich besser, welche ist eher ungeeignet."
   ]
  },
  {
   "cell_type": "code",
   "execution_count": null,
   "metadata": {},
   "outputs": [],
   "source": [
    "# Your code here"
   ]
  },
  {
   "cell_type": "markdown",
   "metadata": {},
   "source": [
    "Die vorherigen Methoden haben sich teils als schon ganz brauchbar herausgestellt. Lassen sich einige der Methoden einfach verbessern? Falls ja, wie? Besprecht eure  Lösung mit dem Dozenten und holt euch Feedback."
   ]
  },
  {
   "cell_type": "markdown",
   "metadata": {},
   "source": [
    "Implementiere die neue Lösung und visualisiere das Ergebnis der Zeitreihe erneut. "
   ]
  },
  {
   "cell_type": "code",
   "execution_count": null,
   "metadata": {},
   "outputs": [],
   "source": [
    "# Your Code here"
   ]
  },
  {
   "cell_type": "markdown",
   "metadata": {},
   "source": [
    "### Aufgabe 3\n",
    "Oh nein, durch eine defekte Festplatte sind leider die Daten vom **01.07.2018** verloren gegangen. Finde eine geeigne Funktion die Daten zu interpolieren.\n",
    "- Verwende dazu die pandas Funktion `interpolate`. \n",
    "- Identifiziere geeignete Parameter (Funktionen) und plotte erneut.\n",
    "- Kann eine der Funktionen den Fehlenden Tag vernünftig kompensieren?\n",
    "-  Gäbe es auch andere Möglichkeiten?"
   ]
  },
  {
   "cell_type": "code",
   "execution_count": null,
   "metadata": {},
   "outputs": [],
   "source": [
    "import numpy as np\n",
    "# Remove some valid values\n",
    "df.loc[(df.index > \"2018-07-01\") & (df.index < \"2018-07-02\"), \"generation_solar\"] = np.nan"
   ]
  },
  {
   "cell_type": "code",
   "execution_count": null,
   "metadata": {},
   "outputs": [],
   "source": [
    "# Your code here"
   ]
  }
 ],
 "metadata": {
  "kernelspec": {
   "display_name": "summerschool2",
   "language": "python",
   "name": "python3"
  },
  "language_info": {
   "codemirror_mode": {
    "name": "ipython",
    "version": 3
   },
   "file_extension": ".py",
   "mimetype": "text/x-python",
   "name": "python",
   "nbconvert_exporter": "python",
   "pygments_lexer": "ipython3",
   "version": "3.11.4"
  },
  "orig_nbformat": 4
 },
 "nbformat": 4,
 "nbformat_minor": 2
}
