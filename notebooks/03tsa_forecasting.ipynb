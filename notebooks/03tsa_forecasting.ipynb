{
 "cells": [
  {
   "cell_type": "markdown",
   "metadata": {},
   "source": [
    "# Prognosemodelle\n",
    "\n",
    "Nachdem Du im vorherigen Schritt die explorative Phase des Datensets abgeschlossen hast, sollst du nun für einige der Produkte ein Prognosemodell entwickeln. Schneide dazu bitte zuerst die letzten 30 Tage der Daten ab und behalte sie als Testdaten (Auf Basis dieser Daten bewertest du dein endgültiges Modell)\n",
    "\n",
    "Gehe bei der Entwicklung iterativ vor. Das bedeutet:\n",
    "- Steigende Modellkomplexitäten\n",
    "- Übertragen der Erkenntnisse aus der explorativen Phase mit in die Modelle\n",
    "- Ggf hinzuziehen von wichtigen Daten wie \"Holidays\"\n",
    "- Track deine Kennzahlen in geeignetem Maße (Nicht löschen reicht schon aus)\n",
    "\n",
    "Hast du Daten im vorherigen Schritt bereinigt, so baue auf diesen Bereinigungen auf.\n",
    "Welche Modelle du für diese Aufgabe verwendest, steht dir frei. Ein paar Tipps:\n",
    "- das `Darts` Package bietet eine vielzahl von Algorithmen. Dabei musst du dein Datenset nicht jedes mal in eine neue Form bringen und kannst auf altbewährte Methoden zurückgreifen.\n",
    "- Entscheidest du dich für `Prophet`, so bietet sich ein Blick in die offizielle Dokumentation an. Dort wird exakt erläutert, wie externe Einflüsse wie Holidays modelliert werden können. \n",
    "**Achtung**: Die Interfaces von `darts.models.Prophet` und `prophet.Prophet` unterscheiden sich."
   ]
  },
  {
   "cell_type": "code",
   "execution_count": null,
   "metadata": {},
   "outputs": [],
   "source": []
  }
 ],
 "metadata": {
  "language_info": {
   "name": "python"
  },
  "orig_nbformat": 4
 },
 "nbformat": 4,
 "nbformat_minor": 2
}
