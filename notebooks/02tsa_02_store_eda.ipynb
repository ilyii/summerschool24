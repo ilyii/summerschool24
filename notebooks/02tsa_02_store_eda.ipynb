{
 "cells": [
  {
   "cell_type": "markdown",
   "metadata": {},
   "source": [
    "### Bitte lade dir die Daten aus GDrive runter und platziere sie im entsprechenden Verzeichnis\n",
    "https://drive.google.com/drive/folders/1lWrhk-i7g3Hbl5DWO7DFm6LtL7U_eJBH?usp=sharing"
   ]
  },
  {
   "cell_type": "markdown",
   "metadata": {},
   "source": [
    "# Absatzprognose für einen Supermarkt\n",
    "Stell dir vor, du bist ein Data Scientist, der für Favorita, eine Supermarktkette in Ecuador, arbeitet. Du hast Zugang zu einem umfangreichen Datensatz, der Verkaufsinformationen, Angaben zu Geschäften und Produkten sowie zusätzliche wirtschaftliche Indikatoren aus den letzten Jahren enthält. Das Management möchte diese Daten nutzen, um fundierte Entscheidungen treffen zu können. Sie sind besonders daran interessiert, herauszufinden, welche Produktfamilien den höchsten Umsatz erzielen, ob in den Daten Anomalien vorhanden sind und insbesondere, ob die Verkäufe für die nächsten 15 Tage präzise vorhergesagt werden können.\n",
    "\n",
    "Deine Aufgabe ist es, eine tiefgehende Analyse der bereitgestellten Datensätze durchzuführen. Du hast Zugang zu verschiedenen Dateien: 'train.csv' enthält Zeitreihendaten für verschiedene Merkmale wie Geschäftsnummer (store_nbr), Produktfamilie (family) und Informationen über Promotionen (onpromotion). 'test.csv' gibt dir die Möglichkeit, deine Vorhersagemodelle auf Aktualität zu prüfen. Ergänzende Dateien wie 'stores.csv', 'oil.csv' und 'holidays_events.csv' bieten zusätzliche Kontextinformationen, die bei deiner Analyse hilfreich sein könnten.\n",
    "\n",
    "### Aufgaben\n",
    "\n",
    "#### Aufgabe 1. Allgemeine Analyse\n",
    "1. **Daten laden und inspizieren**: Lade den Datensatz und schau dir die ersten Zeilen an. Überprüfe auch, welche Datentypen die einzelnen Spalten haben.\n",
    "2. **Zusammenfassende Statistik**: Erstelle eine Übersicht der wichtigsten statistischen Kennzahlen, um ein besseres Gefühl für die Daten zu bekommen. Beispiele könnten sein: \n",
    "    - Wie viele Produkte werden verkauft\n",
    "    - Wie viel Umsatz wurde erwirtschaftet\n",
    "    - Auswertung hinsichtlich verschiedener Dimensionen ( z. B. : Zeit, Store, Produkt)\n",
    "    - usw. - Überlege dir weitere Kennzahlen die einen guten Einblick geben könnten\n",
    "3. **Verkaufsanomalien**: Finde ungewöhnliche Spitzen oder Einbrüche im Verkauf und versuche, die Gründe dafür zu ermitteln.\n"
   ]
  },
  {
   "cell_type": "markdown",
   "metadata": {},
   "source": [
    "**INFO: Das Datenset findest du im Ilias Ordner. Speichere es unter tsa02 ab. Beginne mit der Analyse von `train.csv` und ziehe bei Bedarf weitere Daten hinzu.**"
   ]
  },
  {
   "cell_type": "code",
   "execution_count": null,
   "metadata": {},
   "outputs": [],
   "source": [
    "# Your Code here"
   ]
  },
  {
   "cell_type": "markdown",
   "metadata": {},
   "source": [
    "#### Aufgabe 2. Datenbereinigung und -vorverarbeitung\n",
    "1. **Probleme und Ausreißer erkennen**: Finde Duplikate und Ausreißer im Datensatz und entscheide, wie diese behandelt werden sollen.\n",
    "2. **Fehlende Daten finden**: Schau nach, ob im Datensatz Werte fehlen, und überlege dir, wie du damit umgehen willst."
   ]
  },
  {
   "cell_type": "code",
   "execution_count": null,
   "metadata": {},
   "outputs": [],
   "source": [
    "# Your Code here"
   ]
  },
  {
   "cell_type": "markdown",
   "metadata": {},
   "source": [
    "#### Aufgabe 3. Umsatzanalyse\n",
    "1. **Top 5 Umsatzprodukte**: Finde heraus, welche 5 Kategorien (family) am meisten verkauft werden. Führe ein Detailanalyse für 3 dieser Kategorien durch. D.h. Schau dir ihren zeitlichen verlauf an, untersuche mögliche Korrelationen zu anderen Kategorien.\n",
    "Verwende diese 3 Produkte auch bei den folgenden Aufgaben."
   ]
  },
  {
   "cell_type": "code",
   "execution_count": null,
   "metadata": {},
   "outputs": [],
   "source": [
    "# Your Code here"
   ]
  },
  {
   "cell_type": "markdown",
   "metadata": {},
   "source": [
    "#### Aufgabe 4. Zeitreihenanalyse\n",
    "1. **Zeitreihen zerlegen**: Unterteile die Zeitreihendaten in ihre Bestandteile: Trend, Saisonalität und Rauschen. \n",
    "2. **Stationarität überprüfen**: Checke, ob die Zeitreihendaten stationär sind oder nicht.\n",
    "3. **Auto-Korrelation und partielle Auto-Korrelation**: Erstelle diese Plots, um eventuelle Autokorrelationen in den Zeitreihendaten zu identifizieren."
   ]
  },
  {
   "cell_type": "code",
   "execution_count": null,
   "metadata": {},
   "outputs": [],
   "source": [
    "# Your Code here"
   ]
  },
  {
   "cell_type": "markdown",
   "metadata": {},
   "source": [
    "#### Aufgabe 5++ Offene Fragen:\n",
    "Die folgenden Fragen könnten bei Steakholdern aufkommen. Findest du auf diese Fragen Antworten in den Daten? Stütze deine Erkenntnisse mit Visualisierungen\n",
    "\n",
    "**Umsatztrends und Saisonalität:**\n",
    "\n",
    "1. Wie entwickeln sich die Gesamtumsätze von Jahr zu Jahr?\n",
    "2. Wie variieren die Umsätze nach Monat oder Saison? Gibt es spezifische Monate, in denen die Umsätze deutlich ansteigen oder abnehmen?\n",
    "3. An welchem Wochentag sind die Umsätze am höchsten?\n",
    "\n",
    "**Leistung von Produkten und Geschäften:**\n",
    "\n",
    "4. Welche Produkte sind die Spitzenreiter in Bezug auf Verkaufsvolumen und Umsatz?\n",
    "5. Gibt es Geschäfte, die konstant besser abschneiden als andere? Was könnte zu ihrem Erfolg beitragen?\n",
    "6. Wie vergleichen sich die Umsatzleistungen zwischen verschiedenen Geschäftsstandorten oder Regionen?\n",
    "\n",
    "**Auswirkungen von Promotionen:**\n",
    "\n",
    "7. Wie beeinflussen Promotionen die Umsätze? Steigern sie die Verkaufsvolumen signifikant?\n",
    "8. Welche Arten von Promotionen (z.B. Rabatte, Kaufe eins, bekomme eins gratis) haben den größten Einfluss auf die Umsätze?\n",
    "9. Profitieren alle Geschäfte gleichermaßen von Promotionen, oder gibt es einige, die mehr profitieren als andere?\n",
    "\n",
    "**Einfluss externer Faktoren:**\n",
    "\n",
    "10. Wie beeinflussen externe Faktoren wie Feiertage oder lokale Ereignisse die Umsätze?\n",
    "11. Gibt es bemerkenswerte Veränderungen in den Umsatzmustern während großer Sportereignisse oder bei schlechtem Wetter?\n",
    "\n",
    "**Kundenverhalten:**\n",
    "\n",
    "12. Was lässt sich aus den Verkaufsdaten über das Kaufverhalten der Kunden ableiten?\n",
    "13. Gibt es bestimmte Zeiten im Jahr, in denen die Käufe der Kunden signifikant zu- oder abnehmen?\n",
    "14. Wie könnten wirtschaftliche Indikatoren die Kaufmuster beeinflussen?\n",
    "\n",
    "**Lagerverwaltung:**\n",
    "\n",
    "15.  Wie können wir die Lagerbestände basierend auf historischen Verkaufsdaten optimieren, um Kosten zu senken und den Umschlag zu erhöhen?\n",
    "16.  Gibt es Muster von Produktretouren, die im Supply-Chain-Management adressiert werden müssen?\n",
    "\n",
    "**Markterweiterung und strategische Planung:**\n",
    "\n",
    "17. Angesichts der Verkaufsdaten, welche neuen Standorte sollten für Geschäftserweiterungen in Betracht gezogen werden?\n",
    "18. Gibt es aufkommende Trends, die neue Produktlinien oder Änderungen in den Geschäftsmodellen vorschlagen?\n",
    "\n",
    "**Technologische Verbesserungen:**\n",
    "\n",
    "19. Welche Rolle kann Technologie spielen, um das Kundenverhalten und die Umsatztrends besser zu verstehen und vorherzusagen?\n",
    "20. Wie können Datenanalysewerkzeuge verbessert werden, um tiefere Einblicke in die Verkaufsdaten zu bieten?\n",
    "\n",
    "**Risikomanagement:**\n",
    "\n",
    "21. Was sind die potenziellen Risiken in zukünftigen Umsatztrends und wie können diese gemildert werden?\n",
    "22. Wie widerstandsfähig sind die Umsätze gegenüber wirtschaftlichen Abschwüngen oder Veränderungen in den Verbraucherpräferenzen?\n"
   ]
  },
  {
   "cell_type": "code",
   "execution_count": null,
   "metadata": {},
   "outputs": [],
   "source": [
    "# Your Code here"
   ]
  }
 ],
 "metadata": {
  "language_info": {
   "name": "python"
  },
  "orig_nbformat": 4
 },
 "nbformat": 4,
 "nbformat_minor": 2
}
